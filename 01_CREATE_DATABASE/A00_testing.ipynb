{
 "cells": [
  {
   "cell_type": "code",
   "execution_count": 6,
   "metadata": {},
   "outputs": [
    {
     "data": {
      "text/plain": [
       "<__main__.table_order_main at 0x7f6c62fb3be0>"
      ]
     },
     "execution_count": 6,
     "metadata": {},
     "output_type": "execute_result"
    }
   ],
   "source": [
    "class table_order_main():\n",
    "    def __init__(self) -> None:\n",
    "        self.prepare()\n",
    "        self.order_day()\n",
    "        self.order_number()\n",
    "        self.print_data()\n",
    "      \n",
    "\n",
    "    def prepare(self):\n",
    "        #import tools\n",
    "        from A01_TOOL_BOX import tool_box\n",
    "        tool_box=tool_box()\n",
    "    \n",
    "        self.pandas=tool_box.pandas\n",
    "        self.random=tool_box.random\n",
    "        self.datetime=tool_box.datetime \n",
    "\n",
    "        #import data\n",
    "        self.sales_orders=self.pandas.read_csv(filepath_or_buffer='./NEW_DATASET/A03_TAB_CLIENTS.csv',\n",
    "                                               sep=';',decimal=',')[['ID_client','cluster','visit_day','ID_sector']]\n",
    "        \n",
    "    def order_day(self):\n",
    "        #to keep the problem simple, every client can make only at his visit day\n",
    "        #get a set of dates\n",
    "        import datetime\n",
    "        dt_start=datetime.date(year=2023,month=1,day=2)\n",
    "        days=datetime.date(year=2023,month=4,day=30)-dt_start\n",
    "        days=days.days        \n",
    "        dt_list=[dt_start + datetime.timedelta(days=i) for i in range(days)]\n",
    "        dt_list=[i for i  in dt_list]\n",
    "        dt_list=self.pandas.DataFrame(dt_list,columns=['Date'])\n",
    "        dt_list['week']=dt_list['Date'].map(lambda x:x.isocalendar().week)\n",
    "        dt_list['weekDay']=dt_list['Date'].map(lambda x:x.isocalendar().weekday)\n",
    "        dt_list['month']=dt_list['Date'].map(lambda x:x.month)\n",
    "        #set the date to the client\n",
    "        self.sales_orders=self.pandas.merge(left=self.sales_orders,right=dt_list,left_on='visit_day',right_on='weekDay',how='left')\n",
    "        self.sales_orders.drop(columns=['weekDay','visit_day'],inplace=True)\n",
    "        #set the chance the client can by nothing at month\n",
    "        self.sales_orders.loc[:,'filter']=''\n",
    "        for i in self.sales_orders['ID_client'].unique():\n",
    "            for j in self.sales_orders['month'].unique():\n",
    "                if self.random.random()<0.05: # 5% of chance a client will not buy any product at the month\n",
    "                    filter=(self.sales_orders['ID_client']==i) & (self.sales_orders['month']==j)\n",
    "                    self.sales_orders.loc[filter,'filter']='remove'\n",
    "            if self.random.random()<0.10: #10% of chance a client will not buy at the visit\n",
    "                filter=(self.sales_orders['ID_client']==i) \n",
    "                self.sales_orders.loc[filter,'filter']='remove'\n",
    "        #remove the filter orders\n",
    "        self.sales_orders=self.sales_orders[self.sales_orders['filter']!='remove'].reset_index(drop=True)\n",
    "        self.sales_orders.drop(columns=['filter'],inplace=True)\n",
    "    \n",
    "    def order_number(self):\n",
    "        #set an ID of the order to register \n",
    "        self.sales_orders['order_n']=0\n",
    "        self.sales_orders.sort_values(by=['Date','ID_client'],inplace=True)\n",
    "        self.sales_orders.reset_index(inplace=True,drop=True)\n",
    "        new=1\n",
    "        self.sales_orders.loc[0,'order_n']=1\n",
    "        for i in self.sales_orders.index[1:]:\n",
    "            if self.sales_orders.loc[i,'Date']==self.sales_orders.loc[i-1,'Date']:\n",
    "                new=self.sales_orders.loc[i-1,'order_n']+1\n",
    "            else:\n",
    "                new=1\n",
    "            self.sales_orders.loc[i,'order_n']=new\n",
    "        self.sales_orders['order_n']=self.sales_orders['Date'].map(lambda x:str(x).replace('-','').zfill(4))+self.sales_orders['order_n'].map(lambda x:str(x))\n",
    "        self.sales_orders.drop(columns=['week','month'],inplace=True)\n",
    "    \n",
    "    def print_data(self):\n",
    "        self.sales_orders.to_csv('NEW_DATASET/A05_TAB_ORDER_MAIN.csv',sep=';',decimal=',',index=False) \n",
    "\n",
    "table_order_main()"
   ]
  }
 ],
 "metadata": {
  "kernelspec": {
   "display_name": "Python 3",
   "language": "python",
   "name": "python3"
  },
  "language_info": {
   "codemirror_mode": {
    "name": "ipython",
    "version": 3
   },
   "file_extension": ".py",
   "mimetype": "text/x-python",
   "name": "python",
   "nbconvert_exporter": "python",
   "pygments_lexer": "ipython3",
   "version": "3.10.12"
  }
 },
 "nbformat": 4,
 "nbformat_minor": 2
}
