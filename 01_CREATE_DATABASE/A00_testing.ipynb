{
 "cells": [
  {
   "cell_type": "code",
   "execution_count": 7,
   "metadata": {},
   "outputs": [],
   "source": [
    "def create_data_set():\n",
    "    from B01_C_TABLE_PRODUCTS  import table_products\n",
    "    table_products()\n",
    "\n",
    "    from B02_C_TABLE_PRICE import  table_price\n",
    "    table_price()\n",
    "\n",
    "    from B03_C_TABLE_CLIENTS import table_clients\n",
    "    table_clients()\n",
    "\n",
    "    from B04_C_TABLE_SALESMAN import table_salesman\n",
    "    table_salesman()\n",
    "\n",
    "    from B05_C_TABLE_ORDERS_MAIN import table_order_main\n",
    "    table_order_main()\n",
    "create_data_set()"
   ]
  },
  {
   "cell_type": "code",
   "execution_count": 8,
   "metadata": {},
   "outputs": [
    {
     "data": {
      "text/plain": [
       "<B01_C_TABLE_PRODUCTS.table_products at 0x7f6c62fcf5b0>"
      ]
     },
     "execution_count": 8,
     "metadata": {},
     "output_type": "execute_result"
    }
   ],
   "source": [
    "from B01_C_TABLE_PRODUCTS  import table_products\n",
    "table_products()"
   ]
  }
 ],
 "metadata": {
  "kernelspec": {
   "display_name": "Python 3",
   "language": "python",
   "name": "python3"
  },
  "language_info": {
   "codemirror_mode": {
    "name": "ipython",
    "version": 3
   },
   "file_extension": ".py",
   "mimetype": "text/x-python",
   "name": "python",
   "nbconvert_exporter": "python",
   "pygments_lexer": "ipython3",
   "version": "3.10.12"
  }
 },
 "nbformat": 4,
 "nbformat_minor": 2
}
